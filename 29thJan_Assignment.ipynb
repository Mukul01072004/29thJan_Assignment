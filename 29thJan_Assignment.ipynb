{
 "cells": [
  {
   "cell_type": "code",
   "execution_count": null,
   "id": "e4734257",
   "metadata": {},
   "outputs": [],
   "source": [
    "Answer 1: Python was created by Guido van Rossum, a Dutch programmer."
   ]
  },
  {
   "cell_type": "code",
   "execution_count": null,
   "id": "b3ebbfda",
   "metadata": {},
   "outputs": [],
   "source": [
    "Answer 2: Python supports multiple programming paradigms, including procedural, object-oriented, and functional programming."
   ]
  },
  {
   "cell_type": "code",
   "execution_count": null,
   "id": "d0912be8",
   "metadata": {},
   "outputs": [],
   "source": [
    "Answer 3: Yes."
   ]
  },
  {
   "cell_type": "raw",
   "id": "e2de065d",
   "metadata": {},
   "source": [
    "Answer 4: .py"
   ]
  },
  {
   "cell_type": "code",
   "execution_count": null,
   "id": "e39b03e9",
   "metadata": {},
   "outputs": [],
   "source": [
    "Answer 5: interpreted."
   ]
  },
  {
   "cell_type": "code",
   "execution_count": null,
   "id": "347759dd",
   "metadata": {},
   "outputs": [],
   "source": [
    "Answer 6: Function block, Conditional block, Loop Block, Class block."
   ]
  },
  {
   "cell_type": "code",
   "execution_count": null,
   "id": "140c44ce",
   "metadata": {},
   "outputs": [],
   "source": [
    "Answer 7: '#'."
   ]
  },
  {
   "cell_type": "code",
   "execution_count": null,
   "id": "675ff37e",
   "metadata": {},
   "outputs": [],
   "source": [
    "Answer 8: 'sys'."
   ]
  },
  {
   "cell_type": "code",
   "execution_count": null,
   "id": "a6305672",
   "metadata": {},
   "outputs": [],
   "source": [
    "Answer 9: lambda."
   ]
  },
  {
   "cell_type": "raw",
   "id": "a5e21000",
   "metadata": {},
   "source": [
    "Answer 10: Pip Installs Packages."
   ]
  },
  {
   "cell_type": "code",
   "execution_count": null,
   "id": "f0836e29",
   "metadata": {},
   "outputs": [],
   "source": [
    "Answer 11: print(), len(), type(), range(), sum(), max(), min(), input(), str(), int() etc."
   ]
  },
  {
   "cell_type": "raw",
   "id": "f3a43b2b",
   "metadata": {},
   "source": [
    "Answer 12: Unlimited."
   ]
  },
  {
   "cell_type": "code",
   "execution_count": null,
   "id": "d4978dad",
   "metadata": {},
   "outputs": [],
   "source": [
    "Answer 13: Easy to use, Large and active community, Cross-platform compatibility, High level language, Large Standard library, fast development etc."
   ]
  },
  {
   "cell_type": "code",
   "execution_count": null,
   "id": "53eede21",
   "metadata": {},
   "outputs": [],
   "source": [
    "Answer 14: In Python, memory management is handled automatically by the interpreter using a technique called \"garbage collection\". Garbage collection is the process by which the interpreter automatically frees up memory that is no longer being used by the program."
   ]
  },
  {
   "cell_type": "raw",
   "id": "f780a3b8",
   "metadata": {},
   "source": [
    "Answer 15: 1.Download the latest version of Python for Windows from the official Python website (https://www.python.org/downloads/windows/). Choose the appropriate installer for your system, either 32-bit or 64-bit.\n",
    "\n",
    "2.Run the installer and follow the on-screen instructions to install Python.\n",
    "\n",
    "3.After the installation is complete, open the Start menu and search for \"Environment Variables\". Click on \"Edit the system environment variables\".\n",
    "\n",
    "4.Click on the \"Environment Variables\" button at the bottom of the System Properties window.\n",
    "\n",
    "5.Under \"System Variables\", scroll down to find the \"Path\" variable and select it. Then click on the \"Edit\" button.\n",
    "\n",
    "6.In the \"Edit environment variable\" window, click on the \"New\" button and add the path to the Python installation directory (e.g., \"C:\\Python39\" for Python 3.9).\n",
    "\n",
    "7.Click \"OK\" to close all the windows.\n",
    "\n",
    "8.To verify that Python is installed and the PATH variable is set correctly, open a new command prompt window and type \"python\" at the prompt. If Python is installed and configured correctly, you should see the Python interpreter prompt (\">>>\")."
   ]
  },
  {
   "cell_type": "code",
   "execution_count": null,
   "id": "a630a4a3",
   "metadata": {},
   "outputs": [],
   "source": [
    "ANswer 16: Yes."
   ]
  }
 ],
 "metadata": {
  "kernelspec": {
   "display_name": "Python 3 (ipykernel)",
   "language": "python",
   "name": "python3"
  },
  "language_info": {
   "codemirror_mode": {
    "name": "ipython",
    "version": 3
   },
   "file_extension": ".py",
   "mimetype": "text/x-python",
   "name": "python",
   "nbconvert_exporter": "python",
   "pygments_lexer": "ipython3",
   "version": "3.10.1"
  }
 },
 "nbformat": 4,
 "nbformat_minor": 5
}
