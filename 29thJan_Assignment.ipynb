{
 "cells": [
  {
   "cell_type": "code",
   "execution_count": null,
   "id": "d0771775",
   "metadata": {},
   "outputs": [],
   "source": [
    "Answer 1: Python was created by Guido van Rossum, a Dutch programmer."
   ]
  },
  {
   "cell_type": "code",
   "execution_count": null,
   "id": "06305d88",
   "metadata": {},
   "outputs": [],
   "source": [
    "Answer 2: Python supports multiple programming paradigms, including procedural, object-oriented, and functional programming."
   ]
  },
  {
   "cell_type": "code",
   "execution_count": null,
   "id": "ab7842dc",
   "metadata": {},
   "outputs": [],
   "source": [
    "Answer 3: Yes."
   ]
  },
  {
   "cell_type": "code",
   "execution_count": null,
   "id": "5f2370ab",
   "metadata": {},
   "outputs": [],
   "source": [
    "Answer 4: .py"
   ]
  },
  {
   "cell_type": "code",
   "execution_count": null,
   "id": "e7c5f7dc",
   "metadata": {},
   "outputs": [],
   "source": [
    "Answer 5: interpreted."
   ]
  },
  {
   "cell_type": "code",
   "execution_count": null,
   "id": "c81757ad",
   "metadata": {},
   "outputs": [],
   "source": [
    "Answer 6: Function block, Conditional block, Loop Block, Class block."
   ]
  },
  {
   "cell_type": "code",
   "execution_count": null,
   "id": "3adde862",
   "metadata": {},
   "outputs": [],
   "source": [
    "Answer 7: '#'."
   ]
  },
  {
   "cell_type": "code",
   "execution_count": null,
   "id": "5f74a66f",
   "metadata": {},
   "outputs": [],
   "source": [
    "Answer 8: 'sys'."
   ]
  },
  {
   "cell_type": "code",
   "execution_count": null,
   "id": "3d030e4f",
   "metadata": {},
   "outputs": [],
   "source": [
    "Answer 9: lambda."
   ]
  },
  {
   "cell_type": "code",
   "execution_count": null,
   "id": "6d1a6aa0",
   "metadata": {},
   "outputs": [],
   "source": [
    "Answer 10: Pip Installs Packages."
   ]
  },
  {
   "cell_type": "code",
   "execution_count": null,
   "id": "4ca56b91",
   "metadata": {},
   "outputs": [],
   "source": [
    "Answer 11: print(), len(), type(), range(), sum(), max(), min(), input(), str(), int() etc."
   ]
  },
  {
   "cell_type": "code",
   "execution_count": null,
   "id": "57d5737d",
   "metadata": {},
   "outputs": [],
   "source": [
    "Answer 12: Unlimited."
   ]
  },
  {
   "cell_type": "code",
   "execution_count": null,
   "id": "9d8b254a",
   "metadata": {},
   "outputs": [],
   "source": [
    "Answer 13: Easy to use, Large and active community, Cross-platform compatibility, High level language, Large Standard library, fast development etc."
   ]
  },
  {
   "cell_type": "code",
   "execution_count": null,
   "id": "a83e634f",
   "metadata": {},
   "outputs": [],
   "source": [
    "Answer 14: In Python, memory management is handled automatically by the interpreter using a technique called \"garbage collection\". Garbage collection is the process by which the interpreter automatically frees up memory that is no longer being used by the program."
   ]
  },
  {
   "cell_type": "code",
   "execution_count": null,
   "id": "567a2941",
   "metadata": {},
   "outputs": [],
   "source": [
    "Answer 15: 1.Download the latest version of Python for Windows from the official Python website (https://www.python.org/downloads/windows/). Choose the appropriate installer for your system, either 32-bit or 64-bit.\n",
    "\n",
    "2.Run the installer and follow the on-screen instructions to install Python.\n",
    "\n",
    "3.After the installation is complete, open the Start menu and search for \"Environment Variables\". Click on \"Edit the system environment variables\".\n",
    "\n",
    "4.Click on the \"Environment Variables\" button at the bottom of the System Properties window.\n",
    "\n",
    "5.Under \"System Variables\", scroll down to find the \"Path\" variable and select it. Then click on the \"Edit\" button.\n",
    "\n",
    "6.In the \"Edit environment variable\" window, click on the \"New\" button and add the path to the Python installation directory (e.g., \"C:\\Python39\" for Python 3.9).\n",
    "\n",
    "7.Click \"OK\" to close all the windows.\n",
    "\n",
    "8.To verify that Python is installed and the PATH variable is set correctly, open a new command prompt window and type \"python\" at the prompt. If Python is installed and configured correctly, you should see the Python interpreter prompt (\">>>\")."
   ]
  },
  {
   "cell_type": "code",
   "execution_count": null,
   "id": "317c5f4c",
   "metadata": {},
   "outputs": [],
   "source": [
    "ANswer 16: Yes."
   ]
  }
 ],
 "metadata": {
  "kernelspec": {
   "display_name": "Python 3 (ipykernel)",
   "language": "python",
   "name": "python3"
  },
  "language_info": {
   "codemirror_mode": {
    "name": "ipython",
    "version": 3
   },
   "file_extension": ".py",
   "mimetype": "text/x-python",
   "name": "python",
   "nbconvert_exporter": "python",
   "pygments_lexer": "ipython3",
   "version": "3.10.1"
  }
 },
 "nbformat": 4,
 "nbformat_minor": 5
}
